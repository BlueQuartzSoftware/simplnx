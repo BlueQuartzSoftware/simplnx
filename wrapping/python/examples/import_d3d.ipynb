{
 "cells": [
  {
   "cell_type": "code",
   "execution_count": 1,
   "metadata": {},
   "outputs": [],
   "source": [
    "import complex as cx\n",
    "import numpy as np\n",
    "import matplotlib.pyplot as plt"
   ]
  },
  {
   "cell_type": "markdown",
   "metadata": {},
   "source": [
    "Create the DataStructure object and define the dimensions of the geometry"
   ]
  },
  {
   "cell_type": "code",
   "execution_count": 2,
   "metadata": {},
   "outputs": [],
   "source": [
    "data_structure = cx.DataStructure()"
   ]
  },
  {
   "cell_type": "code",
   "execution_count": null,
   "metadata": {},
   "outputs": [],
   "source": [
    "import_data = cx.Dream3dImportParameter.ImportData()\n",
    "import_data.file_path = '/private/tmp/basic_ebsd.dream3d'\n",
    "import_data.data_paths = None\n",
    "\n",
    "result = cx.ImportDREAM3DFilter.execute(data_structure=data_structure,\n",
    "                                        import_file_data=import_data,\n",
    ")\n",
    "print(f'Warnings: {result.warnings}')\n",
    "if not result:\n",
    "    print(f'Errors: {result.errors}')\n",
    "else:\n",
    "    print('No errors running the ImportDREAM3DFilter filter')"
   ]
  },
  {
   "cell_type": "markdown",
   "metadata": {},
   "source": [
    "Get the underlying data from the DataStructure"
   ]
  },
  {
   "cell_type": "code",
   "execution_count": null,
   "metadata": {},
   "outputs": [],
   "source": [
    "data_array: cx.IDataArray = data_structure[cx.DataPath(['Small IN100', 'Scan Data', 'Image Quality'])]\n",
    "# Get the underlying DataStore object\n",
    "data_store = data_array.store\n",
    "\n",
    "# Get a View into the DataArray through a Numpy.View\n",
    "npview: np.ndarray = data_store.npview()\n",
    "# Change the underlying data based on some criteria using Numpy\n",
    "npview[npview < 120] = 0"
   ]
  },
  {
   "cell_type": "markdown",
   "metadata": {},
   "source": [
    "Write the DataStructure to a .dream3d file"
   ]
  },
  {
   "cell_type": "code",
   "execution_count": null,
   "metadata": {},
   "outputs": [],
   "source": [
    "output_file_path = '/tmp/import_data.dream3d'\n",
    "result = cx.ExportDREAM3DFilter.execute(data_structure=data_structure,\n",
    "                                        export_file_path=output_file_path,\n",
    "                                        write_xdmf_file=True,\n",
    ")\n",
    "print(f'Warnings: {result.warnings}')\n",
    "if not result:\n",
    "    print(f'Errors: {result.errors}')\n",
    "else:\n",
    "    print('No errors running the ExportDREAM3DFilter filter')"
   ]
  },
  {
   "cell_type": "markdown",
   "metadata": {},
   "source": [
    "View with MatPlotLib"
   ]
  },
  {
   "cell_type": "code",
   "execution_count": null,
   "metadata": {},
   "outputs": [],
   "source": [
    "# Make a copy to that we can use MatPlotLib\n",
    "npdata = data_store.npview().copy()\n",
    "\n",
    "# Remove any dimension with '1' for MatPlotLib?\n",
    "npdata = np.squeeze(npdata, axis=0)\n",
    "npdata = np.squeeze(npdata, axis=2)\n",
    "\n",
    "plt.imshow(npdata)\n",
    "plt.title('Image Quality (Small IN100 from File)')\n",
    "# plt.axis('off') # to turn off axes\n",
    "plt.show()"
   ]
  }
 ],
 "metadata": {
  "kernelspec": {
   "display_name": "test",
   "language": "python",
   "name": "python3"
  },
  "language_info": {
   "codemirror_mode": {
    "name": "ipython",
    "version": 3
   },
   "file_extension": ".py",
   "mimetype": "text/x-python",
   "name": "python",
   "nbconvert_exporter": "python",
   "pygments_lexer": "ipython3",
   "version": "3.8.17"
  },
  "orig_nbformat": 4
 },
 "nbformat": 4,
 "nbformat_minor": 2
}
