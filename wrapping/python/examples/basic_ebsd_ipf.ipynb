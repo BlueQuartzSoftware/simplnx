{
 "cells": [
  {
   "cell_type": "code",
   "execution_count": null,
   "metadata": {},
   "outputs": [],
   "source": [
    "# Import the DREAM3D Base library and Plugins\n",
    "import complex as cx\n",
    "\n",
    "import itkimageprocessing as cxitk\n",
    "import orientationanalysis as cxor\n",
    "\n",
    "import numpy as np\n",
    "import matplotlib.pyplot as plt"
   ]
  },
  {
   "cell_type": "markdown",
   "metadata": {},
   "source": [
    "Create a Data Structure"
   ]
  },
  {
   "cell_type": "code",
   "execution_count": null,
   "metadata": {},
   "outputs": [],
   "source": [
    "# Create a Data Structure\n",
    "data_structure = cx.DataStructure()"
   ]
  },
  {
   "cell_type": "markdown",
   "metadata": {},
   "source": [
    "Import an EBSD Data file"
   ]
  },
  {
   "cell_type": "code",
   "execution_count": null,
   "metadata": {},
   "outputs": [],
   "source": [
    "result = cxor.ReadAngDataFilter.execute(data_structure=data_structure,\n",
    "                                        cell_attribute_matrix_name='Scan Data',\n",
    "                                        cell_ensemble_attribute_matrix_name='Phase Data',\n",
    "                                        data_container_name=cx.DataPath(['Small IN100']),\n",
    "                                        input_file='/Users/mjackson/Workspace1/DREAM3D_Data/Data/SmallIN100/Slice_1.ang',\n",
    ")\n",
    "print(f'Warnings: {result.warnings}')\n",
    "if not result:\n",
    "    print(f'Errors: {result.errors}')\n",
    "else:\n",
    "    print('No errors running the ReadAngDataFilter filter')"
   ]
  },
  {
   "cell_type": "markdown",
   "metadata": {},
   "source": [
    "Rotate the Euler Reference Frame"
   ]
  },
  {
   "cell_type": "code",
   "execution_count": null,
   "metadata": {},
   "outputs": [],
   "source": [
    "result = cxor.RotateEulerRefFrameFilter.execute(data_structure=data_structure,\n",
    "                                                cell_euler_angles_array_path=cx.DataPath(['Small IN100', 'Scan Data', 'EulerAngles']),\n",
    "                                                rotation_axis=[0, 0, 1, 90],\n",
    ")\n",
    "print(f'Warnings: {result.warnings}')\n",
    "if not result:\n",
    "    print(f'Errors: {result.errors}')\n",
    "else:\n",
    "    print('No errors running the RotateEulerRefFrameFilter filter')"
   ]
  },
  {
   "cell_type": "markdown",
   "metadata": {},
   "source": [
    "Rotate the Sample Reference Frame 180@010"
   ]
  },
  {
   "cell_type": "code",
   "execution_count": null,
   "metadata": {},
   "outputs": [],
   "source": [
    "result = cx.RotateSampleRefFrameFilter.execute(data_structure=data_structure,\n",
    "                                               # created_image_geometry=cx.DataPath(['Small IN100 Rotated']),\n",
    "                                               remove_original_geometry=True,\n",
    "                                               rotate_slice_by_slice=False,\n",
    "                                               rotation_axis=[0, 1, 0, 180],\n",
    "                                               rotation_representation=0,\n",
    "                                               selected_image_geometry=cx.DataPath(['Small IN100']),\n",
    "                                               # rotation_matrix=[[1, 0, 0], [0, 1, 0], [0, 0, 1]],\n",
    ")\n",
    "print(f'Warnings: {result.warnings}')\n",
    "if not result:\n",
    "    print(f'Errors: {result.errors}')\n",
    "else:\n",
    "    print('No errors running the RotateSampleRefFrameFilter filter')"
   ]
  },
  {
   "cell_type": "markdown",
   "metadata": {},
   "source": [
    "Create a ThresholdSet to use in the MultiThreshold Objects filter\n",
    "\n",
    "This will create a boolean output array at DataPath(['Small IN100', 'Scan Data', 'Mask'])"
   ]
  },
  {
   "cell_type": "code",
   "execution_count": null,
   "metadata": {},
   "outputs": [],
   "source": [
    "threshold_1 = cx.ArrayThreshold()\n",
    "threshold_1.array_path = cx.DataPath(['Small IN100', 'Scan Data', 'Confidence Index'])\n",
    "threshold_1.comparison = cx.ArrayThreshold.ComparisonType.GreaterThan\n",
    "threshold_1.value = 0.1\n",
    "\n",
    "threshold_2 = cx.ArrayThreshold()\n",
    "threshold_2.array_path = cx.DataPath(['Small IN100', 'Scan Data', 'Image Quality'])\n",
    "threshold_2.comparison = cx.ArrayThreshold.ComparisonType.GreaterThan\n",
    "threshold_2.value = 120\n",
    "\n",
    "threshold_set = cx.ArrayThresholdSet()\n",
    "threshold_set.thresholds = [threshold_1, threshold_2]\n",
    "dt = cx.DataType.boolean\n",
    "result = cx.MultiThresholdObjects.execute(data_structure=data_structure,\n",
    "                                          array_thresholds=threshold_set,\n",
    "                                          created_data_path='Mask',\n",
    "                                          created_mask_type=cx.DataType.boolean,\n",
    ")\n",
    "print(f'Warnings: {result.warnings}')\n",
    "if not result:\n",
    "    print(f'Errors: {result.errors}')\n",
    "else:\n",
    "    print('No errors running the MultiThresholdObjects filter')"
   ]
  },
  {
   "cell_type": "markdown",
   "metadata": {},
   "source": [
    "Generate the IPF Colors for the <001> direction"
   ]
  },
  {
   "cell_type": "code",
   "execution_count": null,
   "metadata": {},
   "outputs": [],
   "source": [
    "result = cxor.GenerateIPFColorsFilter.execute(data_structure=data_structure,\n",
    "                                              cell_euler_angles_array_path=cx.DataPath(['Small IN100', 'Scan Data', 'EulerAngles']),\n",
    "                                              cell_ipf_colors_array_name='IPFColors',\n",
    "                                              cell_phases_array_path=cx.DataPath(['Small IN100', 'Scan Data', 'Phases']),\n",
    "                                              crystal_structures_array_path=cx.DataPath(['Small IN100', 'Phase Data', 'CrystalStructures']),\n",
    "                                              good_voxels_array_path=cx.DataPath(['Small IN100', 'Scan Data', 'Mask']),\n",
    "                                              reference_dir=[0, 0, 1],\n",
    "                                              use_good_voxels=True,\n",
    ")\n",
    "print(f'Warnings: {result.warnings}')\n",
    "if not result:\n",
    "    print(f'Errors: {result.errors}')\n",
    "else:\n",
    "    print('No errors running the GenerateIPFColorsFilter filter')"
   ]
  },
  {
   "cell_type": "markdown",
   "metadata": {},
   "source": [
    "Write the IPF colors to a PNG file"
   ]
  },
  {
   "cell_type": "code",
   "execution_count": null,
   "metadata": {},
   "outputs": [],
   "source": [
    "result = cxitk.ITKImageWriter.execute(data_structure=data_structure, file_name='/tmp/Small_IN100_IPF_Z.png',\n",
    "                                      image_array_path=cx.DataPath(['Small IN100', 'Scan Data', 'IPFColors']),\n",
    "                                      image_geom_path=cx.DataPath(['Small IN100']),\n",
    "                                      index_offset=0,\n",
    "                                      plane=0,\n",
    ")\n",
    "print(f'Warnings: {result.warnings}')\n",
    "if not result:\n",
    "    print(f'Errors: {result.errors}')\n",
    "else:\n",
    "    print('No errors running the ITKImageWriter filter')"
   ]
  },
  {
   "cell_type": "markdown",
   "metadata": {},
   "source": [
    "Show the IPFColors using MatPlotLib"
   ]
  },
  {
   "cell_type": "code",
   "execution_count": null,
   "metadata": {},
   "outputs": [],
   "source": [
    "# First get the array from the DataStructure\n",
    "data_array: cx.IDataArray = data_structure[cx.DataPath(['Small IN100', 'Scan Data', 'IPFColors'])]\n",
    "# Get the underlying DataStore object\n",
    "data_store = data_array.store\n",
    "npdata: np.ndarray = data_store.npview().copy()\n",
    "# Remove any dimension with '1'\n",
    "npdata = np.squeeze(npdata, axis=0)\n",
    "\n",
    "plt.imshow(npdata)\n",
    "plt.title('Small IN100 IPF [001]')\n",
    "plt.axis('off') # to turn off axes\n",
    "plt.show()"
   ]
  },
  {
   "cell_type": "markdown",
   "metadata": {},
   "source": [
    "Create a Pole Figure"
   ]
  },
  {
   "cell_type": "code",
   "execution_count": null,
   "metadata": {},
   "outputs": [],
   "source": [
    "prefix = 'Small_IN100_'\n",
    "result = cxor.WritePoleFigureFilter.execute(data_structure=data_structure,\n",
    "                                            cell_euler_angles_array_path=cx.DataPath(['Small IN100', 'Scan Data', 'EulerAngles']),\n",
    "                                            cell_phases_array_path=cx.DataPath(['Small IN100', 'Scan Data', 'Phases']),\n",
    "                                            crystal_structures_array_path=cx.DataPath(['Small IN100', 'Phase Data', 'CrystalStructures']),\n",
    "                                            generation_algorithm=1, # Discrete = 1\n",
    "                                            good_voxels_array_path=cx.DataPath(['Small IN100', 'Scan Data', 'Mask']),\n",
    "                                            image_geometry_path=cx.DataPath(['Small IN100 Pole Figure']),\n",
    "                                            image_layout=0, # O = Horizontal Layout\n",
    "                                            image_prefix=prefix,\n",
    "                                            image_size=512,\n",
    "                                            lambert_size=64,\n",
    "                                            material_name_array_path=cx.DataPath(['Small IN100', 'Phase Data', 'MaterialName']),\n",
    "                                            num_colors=32,\n",
    "                                            output_path='/tmp/small_in100_pole_figure',\n",
    "                                            save_as_image_geometry=True,\n",
    "                                            title='Small IN100 Slice 1',\n",
    "                                            use_good_voxels=True,\n",
    "                                            write_image_to_disk=True,\n",
    ")\n",
    "print(f'Warnings: {result.warnings}')\n",
    "if not result:\n",
    "    print(f'Errors: {result.errors}')\n",
    "else:\n",
    "    print('No errors running the WritePoleFigureFilter filter')"
   ]
  },
  {
   "cell_type": "markdown",
   "metadata": {},
   "source": [
    "Write the DataStructure to a .dream3d file"
   ]
  },
  {
   "cell_type": "code",
   "execution_count": null,
   "metadata": {},
   "outputs": [],
   "source": [
    "output_file_path = 'basic_ebsd_example.dream3d'\n",
    "result = cx.ExportDREAM3DFilter.execute(data_structure=data_structure,\n",
    "                                        export_file_path=output_file_path,\n",
    "                                        write_xdmf_file=True,\n",
    ")\n",
    "print(f'Warnings: {result.warnings}')\n",
    "if not result:\n",
    "    print(f'Errors: {result.errors}')\n",
    "else:\n",
    "    print('No errors running the ExportDREAM3DFilter filter')"
   ]
  },
  {
   "cell_type": "markdown",
   "metadata": {},
   "source": [
    "View with MatPlotLib"
   ]
  },
  {
   "cell_type": "code",
   "execution_count": null,
   "metadata": {},
   "outputs": [],
   "source": [
    "data_array: cx.IDataArray = data_structure[cx.DataPath(['Small IN100 Pole Figure', 'CellData', prefix + 'Phase_1'])]\n",
    "# Get the underlying DataStore object\n",
    "data_store = data_array.store\n",
    "npdata: np.ndarray = data_store.npview().copy()\n",
    "# Remove any dimension with '1'\n",
    "npdata = np.squeeze(npdata, axis=0)\n",
    "\n",
    "plt.imshow(npdata)\n",
    "plt.title('Small IN100 Pole Figure')\n",
    "plt.axis('off')  # to turn off axes\n",
    "plt.show()"
   ]
  }
 ],
 "metadata": {
  "kernelspec": {
   "display_name": "test",
   "language": "python",
   "name": "python3"
  },
  "language_info": {
   "codemirror_mode": {
    "name": "ipython",
    "version": 3
   },
   "file_extension": ".py",
   "mimetype": "text/x-python",
   "name": "python",
   "nbconvert_exporter": "python",
   "pygments_lexer": "ipython3",
   "version": "3.8.17"
  },
  "orig_nbformat": 4
 },
 "nbformat": 4,
 "nbformat_minor": 2
}
