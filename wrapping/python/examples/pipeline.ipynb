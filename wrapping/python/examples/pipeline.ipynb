{
 "cells": [
  {
   "cell_type": "code",
   "execution_count": null,
   "metadata": {},
   "outputs": [],
   "source": [
    "# Import the DREAM3D Base library and Plugins\n",
    "import complex as cx"
   ]
  },
  {
   "cell_type": "code",
   "execution_count": null,
   "metadata": {},
   "outputs": [],
   "source": [
    "data_structure = cx.DataStructure()\n",
    "\n",
    "pipeline = cx.Pipeline()\n",
    "pipeline.append(cx.CreateDataArray(), {'numeric_type': cx.NumericType.int32})\n",
    "pipeline[0].set_args({'numeric_type': cx.NumericType.int32})\n",
    "\n",
    "result = pipeline.execute(data_structure)\n",
    "\n",
    "print(f'Warnings: {result.warnings}')\n",
    "if result.errors:\n",
    "    print(f'Errors: {result.errors}')\n",
    "else:\n",
    "    print('No errors running the Pipeline')"
   ]
  }
 ],
 "metadata": {
  "kernelspec": {
   "display_name": "test",
   "language": "python",
   "name": "python3"
  },
  "language_info": {
   "codemirror_mode": {
    "name": "ipython",
    "version": 3
   },
   "file_extension": ".py",
   "mimetype": "text/x-python",
   "name": "python",
   "nbconvert_exporter": "python",
   "pygments_lexer": "ipython3",
   "version": "3.8.17"
  },
  "orig_nbformat": 4
 },
 "nbformat": 4,
 "nbformat_minor": 2
}
