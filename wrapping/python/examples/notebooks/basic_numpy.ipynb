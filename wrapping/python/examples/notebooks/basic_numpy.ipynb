{
 "cells": [
  {
   "cell_type": "markdown",
   "metadata": {},
   "source": [
    "Notes:\n",
    "\n",
    "As of conda simplnx version 0.1.3 there is *NO* way to wrap an existing\n",
    "numpy array. You will have to make a copy of the data into a simplnx DataArray\n",
    "or have simplnx create the DataArray for you and load your data into the\n",
    "DataArray (Overwriting the initialization values).\n",
    "\n",
    "This will hopefully be addressed in a future update."
   ]
  },
  {
   "cell_type": "code",
   "execution_count": null,
   "metadata": {},
   "outputs": [],
   "source": [
    "# Create a Data Structure\n",
    "data_structure = nx.DataStructure()"
   ]
  },
  {
   "cell_type": "code",
   "execution_count": null,
   "metadata": {},
   "outputs": [],
   "source": [
    "array_path = nx.DataPath(['data'])\n",
    "assert nx.CreateDataArrayFilter.execute(data_structure,\n",
    "                                  numeric_type_index=nx.NumericType.float32,\n",
    "                                  component_dimensions=[[1]],\n",
    "                                  tuple_dimensions=[[3, 2]],\n",
    "                                  output_data_array=array_path,\n",
    "                                  initialization_value='0',\n",
    ")"
   ]
  },
  {
   "cell_type": "code",
   "execution_count": null,
   "metadata": {},
   "outputs": [],
   "source": [
    "data_array: nx.IDataArray = data_structure[array_path]\n",
    "# Get the underlying DataStore object\n",
    "data_store = data_array.store\n",
    "# Get a Numpy View into the data\n",
    "npdata: np.ndarray = data_store.npview()\n",
    "# Manipulate the underlying array\n",
    "npdata += 42.0"
   ]
  },
  {
   "cell_type": "code",
   "execution_count": null,
   "metadata": {},
   "outputs": [],
   "source": [
    "# Create a copy of the underlying array into a new Numpy array\n",
    "degrees_data = npdata.copy()\n",
    "\n",
    "# Use Numpy to convert the data to radians\n",
    "radians_data = np.radians(degrees_data)"
   ]
  },
  {
   "cell_type": "code",
   "execution_count": null,
   "metadata": {},
   "outputs": [],
   "source": [
    "# Run a D3D filter to convert back to degrees\n",
    "assert nx.ChangeAngleRepresentationFilter.execute(data_structure, conversion_type=0, angles_array_path=array_path)\n",
    "\n",
    "# compare the 2 arrays\n",
    "assert np.array_equal(npdata, radians_data)"
   ]
  },
  {
   "cell_type": "code",
   "execution_count": null,
   "metadata": {},
   "outputs": [],
   "source": [
    "# Print the 2 data arrays \n",
    "print('simplnx:')\n",
    "print(npdata)\n",
    "print('numpy:')\n",
    "print(radians_data)"
   ]
  }
 ],
 "metadata": {
  "kernelspec": {
   "display_name": "test",
   "language": "python",
   "name": "python3"
  },
  "language_info": {
   "codemirror_mode": {
    "name": "ipython",
    "version": 3
   },
   "file_extension": ".py",
   "mimetype": "text/x-python",
   "name": "python",
   "nbconvert_exporter": "python",
   "pygments_lexer": "ipython3",
   "version": "3.8.17"
  },
  "orig_nbformat": 4
 },
 "nbformat": 4,
 "nbformat_minor": 2
}
