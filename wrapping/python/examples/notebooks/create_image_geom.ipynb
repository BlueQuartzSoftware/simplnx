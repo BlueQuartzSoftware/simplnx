{
 "cells": [
  {
   "cell_type": "code",
   "execution_count": null,
   "metadata": {},
   "outputs": [],
   "source": [
    "import simplnx as nx"
   ]
  },
  {
   "cell_type": "code",
   "execution_count": null,
   "metadata": {},
   "outputs": [],
   "source": [
    "# Create the DataStructure object and define the dimensions of the geometry\n",
    "data_structure = nx.DataStructure()\n",
    "ig_dims = [10, 20, 30] # NOTE: These are in XYZ order\n",
    "result = nx.CreateGeometryFilter.execute(data_structure=data_structure,\n",
    "                                         array_handling= 0,  # This does not matter for Image Geometry\n",
    "                                         cell_attribute_matrix_name='Cell Data',\n",
    "                                         dimensions=ig_dims, # Note that the dimensions are list as  X, Y, Z\n",
    "                                         geometry_name=nx.DataPath(['Image Geometry']),\n",
    "                                         geometry_type=0, # 0 = Image Geometry\n",
    "                                         origin=[0.0, 0.0, 0.0],\n",
    "                                         spacing=[1.0, 1.0, 1.0],\n",
    ")\n",
    "print(f'Warnings: {result.warnings}')\n",
    "if not result:\n",
    "    print(f'Errors: {result.errors}')\n",
    "else:\n",
    "    print('No errors running the CreateGeometryFilter filter')"
   ]
  },
  {
   "cell_type": "code",
   "execution_count": null,
   "metadata": {},
   "outputs": [],
   "source": [
    "# Now we can create some (or import from another source) some cell based data\n",
    "# this is data that lives at the center of each cell\n",
    "# NOTE: we do *not* need to set the tuple dimensions because we are adding this array to the\n",
    "# AttributeMatrix that we generated in the last filter.\n",
    "output_array_path = nx.DataPath(['Image Geometry', 'Cell Data', 'Float Cell Data'])\n",
    "array_type = nx.NumericType.float32\n",
    "result  = nx.CreateDataArrayFilter.execute(data_structure=data_structure,\n",
    "                                     component_count=1,\n",
    "                                     data_format='',\n",
    "                                     initialization_value='10',\n",
    "                                     numeric_type=array_type,\n",
    "                                     output_data_array=output_array_path,\n",
    ")\n",
    "print(f'Warnings: {result.warnings}')\n",
    "if not result:\n",
    "    print(f'Errors: {result.errors}')\n",
    "else:\n",
    "    print('No errors running the CreateDataArrayFilter filter')"
   ]
  },
  {
   "cell_type": "code",
   "execution_count": null,
   "metadata": {},
   "outputs": [],
   "source": [
    "output_file_path = 'image_geom.dream3d'\n",
    "result = nx.WriteDREAM3DFilter.execute(data_structure=data_structure,\n",
    "                                        export_file_path=output_file_path,\n",
    "                                        write_xdmf_file=True,\n",
    ")\n",
    "print(f'Warnings: {result.warnings}')\n",
    "if not result:\n",
    "    print(f'Errors: {result.errors}')\n",
    "else:\n",
    "    print('No errors running the WriteDREAM3DFilter filter')"
   ]
  }
 ],
 "metadata": {
  "kernelspec": {
   "display_name": "test",
   "language": "python",
   "name": "python3"
  },
  "language_info": {
   "codemirror_mode": {
    "name": "ipython",
    "version": 3
   },
   "file_extension": ".py",
   "mimetype": "text/x-python",
   "name": "python",
   "nbconvert_exporter": "python",
   "pygments_lexer": "ipython3",
   "version": "3.8.17"
  },
  "orig_nbformat": 4
 },
 "nbformat": 4,
 "nbformat_minor": 2
}
