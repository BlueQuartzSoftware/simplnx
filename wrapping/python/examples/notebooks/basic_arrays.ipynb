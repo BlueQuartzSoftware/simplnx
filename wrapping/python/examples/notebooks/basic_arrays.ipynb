{
 "cells": [
  {
   "cell_type": "code",
   "execution_count": null,
   "metadata": {},
   "outputs": [],
   "source": [
    "# Import the DREAM3D Base library and Plugins\n",
    "import simplnx as nx\n",
    "import numpy as np"
   ]
  },
  {
   "cell_type": "markdown",
   "metadata": {},
   "source": [
    "Create a Data Structure"
   ]
  },
  {
   "cell_type": "code",
   "execution_count": null,
   "metadata": {},
   "outputs": [],
   "source": [
    "data_structure = nx.DataStructure()"
   ]
  },
  {
   "cell_type": "code",
   "execution_count": null,
   "metadata": {},
   "outputs": [],
   "source": [
    "array_type = nx.NumericType.float32"
   ]
  },
  {
   "cell_type": "markdown",
   "metadata": {},
   "source": [
    "Create 1D Array"
   ]
  },
  {
   "cell_type": "code",
   "execution_count": null,
   "metadata": {},
   "outputs": [],
   "source": [
    "# Create the Input Parameters to the CreateDataArrayFilter filter\n",
    "output_array_path = nx.DataPath(['1D Array'])\n",
    "tuple_dims = [[10]]\n",
    "result = nx.CreateDataArrayFilter.execute(data_structure=data_structure,\n",
    "                                    component_count=1,\n",
    "                                    data_format='',\n",
    "                                    initialization_value='10',\n",
    "                                    numeric_type=array_type,\n",
    "                                    output_data_array=output_array_path,\n",
    "                                    tuple_dimensions=tuple_dims,\n",
    ")\n",
    "print(f'Warnings: {result.warnings}')\n",
    "if not result:\n",
    "    print(f'Errors: {result.errors}')\n",
    "else:\n",
    "    print('No errors running the filter')"
   ]
  },
  {
   "cell_type": "code",
   "execution_count": null,
   "metadata": {},
   "outputs": [],
   "source": [
    "# We can check the output of the filter by simply printing the array\n",
    "# First get the array from the DataStructure\n",
    "data_array: nx.IDataArray = data_structure[output_array_path]\n",
    "# Get the underlying DataStore object\n",
    "data_store = data_array.store\n",
    "# Get the raw data as an Numpy View\n",
    "npdata: np.ndarray = data_store.npview()\n",
    "print(npdata)"
   ]
  },
  {
   "cell_type": "markdown",
   "metadata": {},
   "source": [
    "Create 2D Array"
   ]
  },
  {
   "cell_type": "code",
   "execution_count": null,
   "metadata": {},
   "outputs": [],
   "source": [
    "# Create a 2D Array with dimensions 2, 5 where the 5 is the fastest moving dimension.\n",
    "# Example, and Image where 5 wide x 2 High\n",
    "output_array_path = nx.DataPath(['2D Array'])\n",
    "tuple_dims = [[2, 5]]\n",
    "result = nx.CreateDataArrayFilter.execute(data_structure=data_structure,\n",
    "                                    component_count=1,\n",
    "                                    data_format='',\n",
    "                                    initialization_value='10',\n",
    "                                    numeric_type=array_type,\n",
    "                                    output_data_array=output_array_path,\n",
    "                                    tuple_dimensions=tuple_dims,\n",
    ")\n",
    "print(f'Warnings: {result.warnings}')\n",
    "if not result:\n",
    "    print(f'Errors: {result.errors}')\n",
    "else:\n",
    "    print('No errors running the filter')\n",
    "\n",
    "data_array: nx.IDataArray = data_structure[output_array_path]\n",
    "data_store = data_array.store\n",
    "npdata: np.ndarray = data_store.npview()\n",
    "print(npdata)"
   ]
  },
  {
   "cell_type": "markdown",
   "metadata": {},
   "source": [
    "Create 3D Array"
   ]
  },
  {
   "cell_type": "code",
   "execution_count": null,
   "metadata": {},
   "outputs": [],
   "source": [
    "# Create a 3D Array with dimensions 3, 2, 5 where the 5 is the fastest moving dimension.\n",
    "# Example, and Image where 5 wide x 2 High\n",
    "output_array_path = nx.DataPath(['3D Array'])\n",
    "tuple_dims = [[3, 2, 5]]\n",
    "result = nx.CreateDataArrayFilter.execute(data_structure=data_structure,\n",
    "                                    component_count=1,\n",
    "                                    data_format='',\n",
    "                                    initialization_value='10',\n",
    "                                    numeric_type=array_type,\n",
    "                                    output_data_array=output_array_path,\n",
    "                                    tuple_dimensions=tuple_dims,\n",
    ")\n",
    "print(f'Warnings: {result.warnings}')\n",
    "if not result:\n",
    "    print(f'Errors: {result.errors}')\n",
    "else:\n",
    "    print('No errors running the filter')\n",
    "\n",
    "data_array: nx.IDataArray = data_structure[output_array_path]\n",
    "data_store = data_array.store\n",
    "npdata: np.ndarray = data_store.npview()\n",
    "print(npdata)"
   ]
  }
 ],
 "metadata": {
  "kernelspec": {
   "display_name": "test",
   "language": "python",
   "name": "python3"
  },
  "language_info": {
   "codemirror_mode": {
    "name": "ipython",
    "version": 3
   },
   "file_extension": ".py",
   "mimetype": "text/x-python",
   "name": "python",
   "nbconvert_exporter": "python",
   "pygments_lexer": "ipython3",
   "version": "3.8.17"
  },
  "orig_nbformat": 4
 },
 "nbformat": 4,
 "nbformat_minor": 2
}
