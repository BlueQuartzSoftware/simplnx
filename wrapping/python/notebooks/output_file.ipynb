{
 "cells": [
  {
   "cell_type": "code",
   "execution_count": null,
   "metadata": {},
   "outputs": [],
   "source": [
    "# Import the DREAM3D Base library and Plugins\n",
    "import simplnx as nx\n",
    "import numpy as np"
   ]
  },
  {
   "cell_type": "code",
   "execution_count": null,
   "metadata": {},
   "outputs": [],
   "source": [
    "# Create a Data Structure\n",
    "data_structure = cx.DataStructure()"
   ]
  },
  {
   "cell_type": "markdown",
   "metadata": {},
   "source": [
    "Create a 2D Array with dimensions 2, 5 where the 5 is the fastest moving dimension."
   ]
  },
  {
   "cell_type": "code",
   "execution_count": null,
   "metadata": {},
   "outputs": [],
   "source": [
    "# Example, and Image where 5 wide x 2 High\n",
    "output_array_path = cx.DataPath(['3D Array'])\n",
    "array_type = cx.NumericType.float32\n",
    "tuple_dims = [[3, 2, 5]]\n",
    "result = cx.CreateDataArray.execute(data_structure=data_structure,\n",
    "                                     component_count=1,\n",
    "                                     data_format='',\n",
    "                                     initialization_value='10',\n",
    "                                     numeric_type=array_type,\n",
    "                                     output_data_array=output_array_path,\n",
    "                                     tuple_dimensions=tuple_dims,\n",
    ")\n",
    "print(f'Warnings: {result.warnings}')\n",
    "if not result:\n",
    "    print(f'Errors: {result.errors}')\n",
    "else:\n",
    "    print('No errors running the CreateDataArray filter')"
   ]
  },
  {
   "cell_type": "code",
   "execution_count": null,
   "metadata": {},
   "outputs": [],
   "source": [
    "data_array: cx.IDataArray = data_structure[output_array_path]\n",
    "data_store = data_array.store\n",
    "npdata: np.ndarray = data_store.npview()\n",
    "print(npdata)"
   ]
  },
  {
   "cell_type": "code",
   "execution_count": null,
   "metadata": {},
   "outputs": [],
   "source": [
    "output_file_path = 'output_file_example.dream3d'\n",
    "result = cx.WriteDREAM3DFilter.execute(data_structure=data_structure,\n",
    "                                        export_file_path=output_file_path,\n",
    "                                        write_xdmf_file=True,\n",
    ")\n",
    "print(f'Warnings: {result.warnings}')\n",
    "if not result:\n",
    "    print(f'Errors: {result.errors}')\n",
    "else:\n",
    "    print('No errors running the WriteDREAM3DFilter filter')"
   ]
  }
 ],
 "metadata": {
  "kernelspec": {
   "display_name": "test",
   "language": "python",
   "name": "python3"
  },
  "language_info": {
   "codemirror_mode": {
    "name": "ipython",
    "version": 3
   },
   "file_extension": ".py",
   "mimetype": "text/x-python",
   "name": "python",
   "nbconvert_exporter": "python",
   "pygments_lexer": "ipython3",
   "version": "3.8.17"
  },
  "orig_nbformat": 4
 },
 "nbformat": 4,
 "nbformat_minor": 2
}
