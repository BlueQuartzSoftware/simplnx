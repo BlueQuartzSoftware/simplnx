{
 "cells": [
  {
   "cell_type": "code",
   "execution_count": null,
   "metadata": {},
   "outputs": [],
   "source": [
    "# Import the DREAM3D Base library and Plugins\n",
    "import complex as cx\n",
    "\n",
    "import orientationanalysis as cxor\n",
    "\n",
    "import numpy as np"
   ]
  },
  {
   "cell_type": "markdown",
   "metadata": {},
   "source": [
    "Create a DataArray that is as long as my CSV file (99 Rows in this case)"
   ]
  },
  {
   "cell_type": "code",
   "execution_count": null,
   "metadata": {},
   "outputs": [],
   "source": [
    "# Create a Data Structure\n",
    "data_structure = cx.DataStructure()"
   ]
  },
  {
   "cell_type": "code",
   "execution_count": null,
   "metadata": {},
   "outputs": [],
   "source": [
    "# Create a DataArray to copy the Euler Angles into \n",
    "array_path = cx.DataPath(['Euler Angles'])\n",
    "result = cx.CreateDataArray.execute(data_structure,\n",
    "                                    numeric_type=cx.NumericType.float32,\n",
    "                                    component_count=3,\n",
    "                                    tuple_dimensions=[[99]],\n",
    "                                    output_data_array=array_path,\n",
    "                                    initialization_value='0',\n",
    ")\n",
    "print(f'Warnings: {result.warnings}')\n",
    "if not result:\n",
    "    print(f'Errors: {result.errors}')\n",
    "else:\n",
    "    print('No errors running the CreateDataArray filter')\n",
    "\n",
    "# Get a numpy.view into the newly created DataArray\n",
    "data_array: cx.IDataArray = data_structure[array_path]\n",
    "# Get the underlying DataStore object\n",
    "data_store = data_array.store\n",
    "# Get a Numpy View into the data\n",
    "npdata: np.ndarray = data_store.npview()"
   ]
  },
  {
   "cell_type": "markdown",
   "metadata": {},
   "source": [
    "Run the ConvertOrientation Filter to convert the Eulers to Quaternions"
   ]
  },
  {
   "cell_type": "code",
   "execution_count": null,
   "metadata": {},
   "outputs": [],
   "source": [
    "# Read the CSV file into the DataArray using the numpy view\n",
    "file_path = 'angles.csv'\n",
    "npdata[:] = np.loadtxt(file_path, delimiter=',')"
   ]
  },
  {
   "cell_type": "code",
   "execution_count": null,
   "metadata": {},
   "outputs": [],
   "source": [
    "quat_path = cx.DataPath(['Quaternions'])\n",
    "result = cxor.ConvertOrientations.execute(data_structure=data_structure,\n",
    "                                          input_orientation_array_path=array_path,\n",
    "                                          input_type=0,\n",
    "                                          output_orientation_array_name='Quaternions',\n",
    "                                          output_type=2,\n",
    ")\n",
    "print(f'Warnings: {result.warnings}')\n",
    "if not result:\n",
    "    print(f'Errors: {result.errors}')\n",
    "else:\n",
    "    print('No errors running the ConvertOrientations filter')\n",
    "\n",
    "# Get the Quaternions and print them out.\n",
    "data_array: cx.IDataArray = data_structure[quat_path]\n",
    "data_store = data_array.store\n",
    "npdata: np.ndarray = data_store.npview()\n",
    "\n",
    "print(npdata)"
   ]
  }
 ],
 "metadata": {
  "kernelspec": {
   "display_name": "test",
   "language": "python",
   "name": "python3"
  },
  "language_info": {
   "codemirror_mode": {
    "name": "ipython",
    "version": 3
   },
   "file_extension": ".py",
   "mimetype": "text/x-python",
   "name": "python",
   "nbconvert_exporter": "python",
   "pygments_lexer": "ipython3",
   "version": "3.8.17"
  },
  "orig_nbformat": 4
 },
 "nbformat": 4,
 "nbformat_minor": 2
}
